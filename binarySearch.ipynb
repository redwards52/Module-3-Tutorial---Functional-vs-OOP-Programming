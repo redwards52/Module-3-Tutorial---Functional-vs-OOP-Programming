{
 "cells": [
  {
   "cell_type": "code",
   "execution_count": null,
   "id": "ab7d5b2c-fe9e-4e23-8fc6-02b45d8477c5",
   "metadata": {},
   "outputs": [],
   "source": [
    "\"\"\"\n",
    "Author: Regine Benton\n",
    "Module 3 Tutorial - Functional vs OOP Programming\n",
    "binarySearch\n",
    "\"\"\"\n",
    "class Solution:\n",
    "    def binarysearch(self, arr, k):\n",
    "        # Code Hclass Solution:\n",
    "        low = 0\n",
    "        high = len(arr) - 1\n",
    "        \n",
    "        while low<=high:\n",
    "            mid = (low+high)//2\n",
    "            if arr[mid]==k:\n",
    "                return mid\n",
    "            elif arr[mid] < k:\n",
    "                low = mid+1\n",
    "            else:\n",
    "                high = mid-1\n",
    "                \n",
    "        return -1"
   ]
  }
 ],
 "metadata": {
  "kernelspec": {
   "display_name": "Python 3 (ipykernel)",
   "language": "python",
   "name": "python3"
  },
  "language_info": {
   "codemirror_mode": {
    "name": "ipython",
    "version": 3
   },
   "file_extension": ".py",
   "mimetype": "text/x-python",
   "name": "python",
   "nbconvert_exporter": "python",
   "pygments_lexer": "ipython3",
   "version": "3.12.7"
  }
 },
 "nbformat": 4,
 "nbformat_minor": 5
}
