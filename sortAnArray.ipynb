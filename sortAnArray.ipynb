{
 "cells": [
  {
   "cell_type": "markdown",
   "id": "52f5ff61",
   "metadata": {},
   "source": [
    "\"\"\n",
    "Author: Regine Benton\n",
    "Module 3 Tutorial - Functional vs OOP Programming\n",
    "sortAnarray.py\n",
    "\"\"\"\n",
    "class Solution:\n",
    "    # Function of the given array\n",
    "    def sort012(self, arr):\n",
    "        l={}\n",
    "        a=[]\n",
    "        l[0],l[1],l[2]=0,0,0\n",
    "        for i in arr:\n",
    "            if i==0:\n",
    "                l[0]+=1\n",
    "            elif i==1:\n",
    "                l[1]+=1\n",
    "            else:\n",
    "                l[2]+=1\n",
    "                \n",
    "            \n",
    "        c1=l[0]\n",
    "        index=0\n",
    "        for k in range(c1):\n",
    "            # print(\"printing k value\",k)\n",
    "            arr[index]=0\n",
    "            index+=1\n",
    "      \n",
    "        c2=l[1]\n",
    "        for k in range(c2):\n",
    "            arr[index]=1\n",
    "            index+=1\n",
    "  \n",
    "        for k in range(l[2]):\n",
    "            arr[index]=2\n",
    "            index+=1\n",
    "       \n",
    "        return arr\n",
    "            \n",
    "            \n",
    "                \n",
    "        # code here\n"
   ]
  }
 ],
 "metadata": {
  "language_info": {
   "name": "python"
  }
 },
 "nbformat": 4,
 "nbformat_minor": 5
}
